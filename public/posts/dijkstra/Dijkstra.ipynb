{
 "cells": [
  {
   "attachments": {},
   "cell_type": "markdown",
   "id": "64308155",
   "metadata": {},
   "source": [
    "# Shortest path-finding with Dijstra's algorithm"
   ]
  },
  {
   "attachments": {},
   "cell_type": "markdown",
   "id": "4ad2d48e",
   "metadata": {},
   "source": [
    "In my previous post, I described how **Dijkstra's algorithm** allows us to make our way through mazes, maps, and other graphs, finding *the shortest path between a start and end point.*\n",
    "\n",
    "To illustrate what an implementation might look like, I will use a challenge from my favourite coding event, **Advent of Code**. "
   ]
  },
  {
   "attachments": {},
   "cell_type": "markdown",
   "id": "634c616e",
   "metadata": {},
   "source": [
    "### Advent of Code\n",
    "\n",
    "Every year, [Advent of Code (AoC)](https://adventofcode.com/2022/day/12) publishes a coding challenge every day of December leading up to Christmas. The challenges can be solved in any language, and typically involve algorithmic or dynamic programming to solve within reasonable time. I find them tho be great ways to hone my coding skills!\n",
    "\n",
    "Most years, Dijkstra's algorithm comes in handy on one day or another. Below is the example of AoC 2022, day 12."
   ]
  },
  {
   "attachments": {},
   "cell_type": "markdown",
   "id": "3f57df3b",
   "metadata": {},
   "source": [
    "### The Challenge\n",
    "\n",
    "```You are given a heightmap of the surrounding area (your puzzle input). The heightmap shows the local area from above broken into a grid; the elevation of each square of the grid is given by a single lowercase letter, where a is the lowest elevation, b is the next-lowest, and so on up to the highest elevation, z.\n",
    "\n",
    "Also included on the heightmap are marks for your current position (S) and the exit (E). Your current position (S) has elevation a, and the exit (E) has elevation z.\n",
    "\n",
    "You'd like to reach E, but to save energy, you should do it in as few steps as possible. During each step, you can move exactly one square up, down, left, or right. To avoid needing to get out your climbing gear, the elevation of the destination square can be at most one higher than the elevation of your current square; that is, if your current elevation is m, you could step to elevation n, but not to elevation o. (This also means that the elevation of the destination square can be much lower than the elevation of your current square.)\n",
    "```\n"
   ]
  },
  {
   "attachments": {},
   "cell_type": "markdown",
   "id": "25103a50",
   "metadata": {},
   "source": [
    "This is a perfect use case for Dijkstra's algorithm! We need to find the shortest path from S to E. \n",
    "\n",
    "Note that we have some further restrictions on how we are allowed to travel: We can take one step up, down, left or right at a time, and we can either stay on the same elevation, go up **one** level, or go down as many as we like.\n",
    "\n",
    "Let's first make this a bit more concrete by visualising the input. To make it easier to work with later, we will load in the data as numbers (matching the ASCII code for lowercase letters), but we will print them on screen as letters. Let's first write ourselves a function that loads the input data from a .txt file into a Numpy array."
   ]
  },
  {
   "cell_type": "code",
   "execution_count": 3,
   "id": "7959995d",
   "metadata": {},
   "outputs": [],
   "source": [
    "import numpy as np\n",
    "\n",
    "def load_data():\n",
    "    '''\n",
    "    The input for AoC challenges are always unique to each player, and are given as .txt files. \n",
    "    To easily work with the data later on, we will read it from the text file and store each \n",
    "    character as the corresponding ASCII code in a numpy array cell.\n",
    "    '''\n",
    "    data = []\n",
    "    \n",
    "    with open('day12.txt') as f:\n",
    "        for line in f.readlines():\n",
    "            data.append([ord(x) for x in line.strip()])\n",
    "            \n",
    "    return np.array(data)\n"
   ]
  },
  {
   "attachments": {},
   "cell_type": "markdown",
   "id": "989e8a96",
   "metadata": {},
   "source": [
    "Next, let's check out the map we are given:"
   ]
  },
  {
   "cell_type": "code",
   "execution_count": 4,
   "id": "6b83a61f",
   "metadata": {
    "collapsed": true
   },
   "outputs": [
    {
     "name": "stdout",
     "output_type": "stream",
     "text": [
      "abcccccaaaaaacccaaaccaaaaaaaacccaaaaaaccccccccccccccccccccccccccccaaaaaaaaaaaaaacacccccccccccccccccccccccccccccccaaaaaaaacccccccccccccccccccccccccccccccccccccccccccccaaaaa\n",
      "abcccccaaaaaaaacaaaaccaaaaaaccccaaaaaaccccccccccaaacccccccccccccccaaaaaaaaaaaaaaaacccccccccccccccccccccccccccccccaaaaaaaaaccccccaaaccccccccccccccccccccccccccccccccccaaaaaa\n",
      "abccccaaaaaaaaacaaaaccaaaaaaccccaaaaaaaaccccccccaaaccccccccccccccccaaaaaaaaaaaaaaccccaaaccccccccccccccccccccccccccaaaaaaaaccccacaaaccccccccccccccccaaccccccccccccccccaaaaaa\n",
      "abcccaaaaaaaaaacaaaccaaaaaaaacccccaaccaaacaaccccaaaaaaaccccccccccccaacaaaaaaaaaccccccaaaaccccccccccccccccccccaaacaaaaaaccccccaaaaaaaacccccccccccccaaaacccccccccccccccaaacaa\n",
      "abcccaaacaaaccccccccaaaaaaaaaaccccccccaaaaaacaaaaaaaaaaccccccccccccccaaaaaaaaaaccccccaaaaccccccccccccccccaaccaaacaaaaaaacccccaaaaaaaacccccccccccccaaaaccaaaccccccccccccccaa\n",
      "abcccccccaaaccccccccaaaaaaaaaaccccccaaaaaaaccaaaaaaaaacccccccccccccccaaaacaaaaaaaacccaaaaccccccccccccccccaaaaaaacaaccaaacccccccaaaaacccccccccccccccaaaaaaaaacccccccccccccaa\n",
      "abcccccccaacccccccccacaaaaaccaccccccaaaaaaacccaaaaaaaccccccaaacccccccaacacaaaaaaaacccccccccccccccccccccccaaaaaaccccccaaaccccccaaaaaccccccccccccjjkkaaaaaaaacccccccccccccccc\n",
      "abaccccccccccccccccccccaaaacccccccccccaaaaaaccccaaaaaaccccaaaacccccccccccccaaaaaaccccccccccaccaaccccccccccaaaaaaaaccccccccccccaaaaaaccccccccccjjjkkkkkaaaaccccccccaaccccccc\n",
      "abaccccccccaaaccccccccccaaccccccccccccaacaaacccaaaaaaaccccaaaacccccccccccccaaaaaaccccccccccaaaaacccccccccaaaaaaaaaccccccccccccaccaaacccccccccjjjjkkkkkkkaacccccccccaccccccc\n",
      "abaacccccccaaaaccccccccccaaaccccccccccaacccccccaaaacaaccccaaaacccccccccccccaaaaaacccccccccccaaaaaccccccccaaaaaaaacccccccaaccccccccccccccccccjjjjoooookkkkkllllllccccaaacccc\n",
      "abaacccccccaaaaccccccccccaaaaccccccccccccccccccaacaaacaaaccccccccccaaccccccaaacaaccccccccccaaaaaacccccccaaaaaaaccccccccaaaacccccccccccccccccjjjoooooopkkkklllllllccccaacccc\n",
      "abaccccccccaaacccccccccccaaaacccccccccccccccccccccaaaaaaacccccccccaaaccccccccccccccccccccccaaaaccccccaaaccccaaaccccccccaaaacccccccccccccccccjjooooooopppklppplllllcccaccccc\n",
      "abacccaaaaaccccccccccccccaaaccccccccccccccccccccccaaaaaaccccccaaaaaaaccccccccccccccccccccccccaaacccccaaacacccaaccccccccaaaaccccccccccccccccjjjooouuuupppppppppplllcccaccccc\n",
      "abccccaaaaacccccccccccccccccccccccccccccccccccccaaaaaaaaccccccaaaaaaaaaaccaacccccccccccccccccccccccaacaaaaaccccccccccccccccaaacccccaccaccccjjjoouuuuuupppppppppllllccaccccc\n",
      "abcccaaaaaacccccccccccccaaccccccaaacccccccccccccaaaaaaaaaccccccaaaaaaaaacaaaaccccccccccccccccccccccaaaaaaaaccccccccccccacccaaccccccaaaacccjjjjoouuuuuuupuuuvvpqqlllccaccccc\n",
      "abcccaaaaaaccccccccccccaaacaacccaaaaacccccccccccaaaaaaaaaaccccccaaaaaaaccaaaacccccccccccccccccccccccaaaaaccccccccccccccaaaaaaacccccaaaaaccijjooouuuxxxuuuuvvvqqqlmccccccccc\n",
      "abcccaaaaaaccccaacccccccaaaaaccaaaaaccccccccccccaaaaaacaaacccccaaaaaaccccaaaacccccccccccccccccccaaaccaaaaaccccaaaccccccaaaaaaaacccaaaaaaciiiinootuxxxxuuyyyvvqqqmmccccccccc\n",
      "abcccacaacccccaaacaaccaaaaaacccaaaaaccccccccccccaaaaaacccccccccaaaaaaaccccccccccccaaccacccccccccaaacaaacaaccaaaaaccccccaaaaaaaaaccaaaaaaiiinnnnnttxxxxxyyyyvvqqqmmdddcccccc\n",
      "abcccaaacaaacccaaaaaccaaaaaaaaccaaaaacccccccccccaaacaaaccccccccaaccaaaccccccccccccaaaaaccccccaaaaaaaaaacccccaaaaaacccccaaaaaaaaaccccaaciiinnnnttttxxxxxyyyyvvqqmmmdddcccccc\n",
      "abcccaaaaaaacaaaaaacccaacaaaaaccaacccccccccccaaaaaaaaaaaccccccccccccaacccccccccccaaaaacccccccaaaaaaaacccccccaaaaaacccccaaaaaaaaccccccciiinnnnttttxxxxxyyyyvvqqqmmmdddcccccc\n",
      "SbcccaaaaaaccaaaaaaaaccccaacccccccccccaacccccaaaaaaaaaaccccccccccccccccccccccccccaaaaaaccccccccaaaaaccccccccaaaaacccccaaaaaaaccccccccciiinnntttxxxEzzzzyyvvvqqqmmmdddcccccc\n",
      "abccaaaaaaaacaacaaaaacccaaccccccccccccaaacccccaaaaaaaaaaaccccccccccccccccccccccccccaaaacccccccaaaaaaccccccccaaaaaccccccacaaaaccccccccciiinnntttxxxxxyyyyyyvvvqqmmmdddcccccc\n",
      "abcaaaaaaaaaacccaacccccaacccccccccacacaaaccccccaaaaaaaaaacccccccccccccccccccccacccaaccccccccccaaaaaaccccccccccccccccccccaaaaaccccccccciiinnntttxxxxyyyyyyyyvvvqqmmmdddccccc\n",
      "abcaaaaaaaaaaccaaccaaaaaacccccccccaaaaaaaaaacccaaaaaaaaaacaaccccccccccccaaaaaaaaccccccccccccccaccaaaccccccccccccccccaaacaaacccccccccaaiiinnnttttxxwwyyyyyyyvvvqqmmmdddccccc\n",
      "abaaccaaacaaaccccccaaaaaaaccccccccaaaaaaaaaacccaaaaaaaacccaaaccccccccccccaaaaaacccccccccccccccccccccccccccccccccccccaaaaaaaaaacccaaaachhhnnnntttsswwyywwwwwvvvrrqkmdddccccc\n",
      "abaaacaaacccccccccccaaaaaaacccccccccaaaaaacccccaacccaaacccaaaaaaaccccccccaaaaaaccccccccccccccaaccccccccccccccccccccccaaaaaaaaacccaaaaaahhhmmmmmsssswwywwwwwwvrrrrkkdddccccc\n",
      "abaaaaaaacccccccccccaaaaaaacccccccccaaaaaaccccccaaccccccaaaaaaaaccccccccaaaaaaaaccccccccaaccaaaccccccccccccccccaacccccaaaaaaacccccaaaaahhhhhmmmmssswwwwwrrrrrrrrkkkeeeccccc\n",
      "abcaaaaaaccccccccccaaaaaacccccccccccaaaaaacccccaaaaccccaaaaaaaaacccccccaaaaaaaaaacccccccaaacaaacccccccccccccacaaaccccaaaaaaccccccaaaaacchhhhhmmmmsswwwwrrrrrrrrrkkkeeeccccc\n",
      "abaaaaaacccccccccccaaaaaaccccccccccaaaaaaaaccccaaaaccccaaaaaaaaccccccccaaaaaaaaaacaaacccaaaaaaccccccaacccccaaaaaccaccaaaaaaacccccaccaacccchhhhmmmssswwsrrrrrrrkkkkkeeeccccc\n",
      "abaaaaaaaccccccccaaccccaaccccccccccaaaaaaacccccaaaacccccccaaaaaacccaaccacaaaaaccccaaaccccaaaaaaaaaacaaaccccaaaaaaaaccaaacaaaccccccccccccccchhhhmmssssssrlllkkkkkkkeeecccccc\n",
      "abaaaaaaaaccccccaaacaacccccccccccccaaaaaaaaccccccccccccccaaaaaaacccaacccccaaaaccccaaaaaaaaaaaaaaaaaaaacccccccaaaaaccccccccaaaacccccccccccccchhgmmmsssssllllkkkkkeeeeeaacccc\n",
      "abcaaacaaacccccccaaaaaccccccccccccaaaaaaaaaccccccccccccccaaaccaaaaaaaaaacccaaccaaaaaaaaaaaaaaaaacaaaaaaaccccaaaaacccccccaaaaaacccccccccccccccggmmmlssslllllffeeeeeeeaaacccc\n",
      "abcaaacccccccccaaaaaacccccccaaacaaacaaaaaaacccccccccccccaaaaccccaaaaaaaacccccccaaaaaaaaaaaaaaaccaaaaaaaaccccaacaacccccccaaaaaacccccccccccccccgggmmlllllllfffffeeeeaaaaacccc\n",
      "abcaaccccccccccaaaaaaaacccccaaaaaaaaaaaaaccccccccccccccccaaaacccccaaaacccccaacccaaaaaaaccccaaaccaaaaaaaacccccccaaccccccccaaaaaaaccccccccccccccggglllllllffffffecacaaacccccc\n",
      "abcccccccccaaccaacaaaaaccccccaaaaaaaaaaaaccccccaaccaaccaaaaaaccccaaaaaccccaaccccccaaaaaacccaaaccaacaaaccaaaacccccccccccccaaaaaaaccccccccccccccggggllllfffffcccccccaaacccccc\n",
      "abcccccccaaaaaaccaaacccccccccaaaaaaaaccaaacccccaaaaaaccaaaaacccccaaaaaacccaaaccaaaaaaaaacccccccccccaaaccaaaaacccccccccccaaaaaaaaaccaaccccccccccggggggfffffccccccccccccccccc\n",
      "abcaaccccaaaaaaccaaccccccccaaaaaaaaaacccaacccccaaaaaccccaaaaaccccacccaaccaaaaccaaaaaccaacccccccccccccccaaaaaacccccccaaacaaaaaaaaaaaaacccccccccccgggggfffaacccccccccccccaccc\n",
      "abaaaccccaaaaaaccccccccaaacaaaaaaaaaaaaaaaaaaccaaaaaacccaaccacccccccaaaaaaaaaaaaaaaccccccccccccccaaaaccaaaaaacccccccaaaaaaaaaacaaaaaaccccccccccccagggfcaaaccccccccccccaaaaa\n",
      "abaaaacccaaaaaccccccccaaaacaaacaaacccaaaaaaaacaaaaaaaaccccccccccccccaaaaaaaaaaaaaaacccccccccccccaaaaacccaaaaaccccccccaaaaaacaaaaaaaaccccccccccccccaccccaaacccccccccccccaaaa\n",
      "abaaaaccccaaaaccccccccaaaacccccaaacccccaaaacccaaaaaaaacccccccccccccccaaaaaaaaaaaaaacccccccccccccaaaaaaccaaaccccccccccaaaaaaaaaaaaaaaaccccccccccccccccccccacccccccccccccaaaa\n",
      "abaacccccccccccccccccccaaacccccaacccccaaaaaacccccaacccccccccccccccccccccaaaaaaaaacccccccccccccccaaaaaacccccccccccccaaaaaaaaaaaaaaaaaaacccccccccccccccccccccccccccccccaaaaaa\n"
     ]
    }
   ],
   "source": [
    "data = load_data()\n",
    "\n",
    "for i in range(len(data)):\n",
    "    print(\"\".join([chr(x) for x in data[i]])) # Convert back to letters for the visualisation"
   ]
  },
  {
   "attachments": {},
   "cell_type": "markdown",
   "id": "df1d5a24",
   "metadata": {},
   "source": [
    "![](./map.png)"
   ]
  },
  {
   "attachments": {},
   "cell_type": "markdown",
   "id": "e5fd0bd2",
   "metadata": {},
   "source": [
    "That's a big mess of letters! I've highlighted the starting point `S` (which has elevation 'a'), and the end point `E` (elevation 'z') for clarity. Each letter corresponds to a position on this map. In graph theory speak, we refer to points or locations as *nodes*, which is the term I will adopt here. We will refer to these nodes as *visited* when we have processed them.\n",
    "\n",
    "Now how do we get from Start to End across this mountain range of letters?\n",
    "\n",
    "Let's consider the shortest path possible, just straight ahead from the start point:"
   ]
  },
  {
   "attachments": {},
   "cell_type": "markdown",
   "id": "0e26c3d4",
   "metadata": {},
   "source": [
    "![](./map_wrong.png)"
   ]
  },
  {
   "attachments": {},
   "cell_type": "markdown",
   "id": "0cf2defd",
   "metadata": {},
   "source": [
    "All is well for the first few steps. The first step requires moving from elevation `a` to `b`, which is allowed, and then from `b` to `c` next. We then stay on `c` for two steps and drop back down to `a`. Remember we are allowed to drop as many levels as we like. \n",
    "\n",
    "But after a few more steps we get stuck, as we would need to climb from `a` to `c` next, which is two steps, so not allowed. \n",
    "\n",
    "So much for our straight path approach...\n",
    "\n",
    "Ultimately, we are going to need to follow a path that winds around steep cliffs, slowly making its way across the mountain range. The red path below could be a good starting point, but ultimately, we need to find `the shortest path`.\n",
    "\n",
    "Let's harness Dijkstra's algorithm to make it happen!"
   ]
  },
  {
   "attachments": {},
   "cell_type": "markdown",
   "id": "18d0279b",
   "metadata": {},
   "source": [
    "![](./map_right.png)"
   ]
  },
  {
   "attachments": {},
   "cell_type": "markdown",
   "id": "45c68b62",
   "metadata": {},
   "source": [
    "Dijkstra's algorithm helps us calculate the shortest distance from every point on the map to the starting point. (We need to do an exhaustive search to ensure we have in fact the *shortest* path.)\n",
    "\n",
    "A single step will be considered a distance of one. So all the neighbours to the starting point will be at distance 1, and a point diagonal from the starting point will be distance 2 (as we can only move up, down, left, right).\n",
    "\n",
    "The exact steps are outlined below. For a detailed description of how Dijkstra's algorithm works, check out my article on \"Finding your way\"."
   ]
  },
  {
   "attachments": {},
   "cell_type": "markdown",
   "id": "6602b2d1",
   "metadata": {},
   "source": [
    "## Implementation"
   ]
  },
  {
   "attachments": {},
   "cell_type": "markdown",
   "id": "3c29952a",
   "metadata": {},
   "source": [
    "\n",
    "We will take the following steps in our implementation:\n",
    "\n",
    "1. Make a list of all the nodes we haven't visited yet. At the start, this is all of them. \n",
    "2. Create a dictionary of nodes to record their corresponding shortest distance from the start. These will all start at infinity, and get updated whenever we find a shorter path to that node.\n",
    "3. Set the distance dictionary entry for the starting point to 0.\n",
    "4. Set the starting point as the 'current' node.\n",
    "5. In a loop, while the end node hasn't been visited yet:\n",
    "    - Find unvisited neighbours to the current node\n",
    "    - For each one, check whether they are accessible (i.e. their elevation is at most 1 higher than the current node)\n",
    "    - If accessible, we can take a step there, meaning their distance from the starting point (via this path) is one further than the current node. If that distance is smaller than what is curently recorded in the dictionary, overwrite it.\n",
    "    - Remove the current node from the 'not visited' list\n",
    "    - Choose the next current node: Out of those that we haven't visited yet, pick the one with the smallest recorded distance.  \n",
    "6. By the end of the loop, the dictionary entry for the end point will be the nr of steps required to get there via the shortest path. "
   ]
  },
  {
   "attachments": {},
   "cell_type": "markdown",
   "id": "b89bceab",
   "metadata": {},
   "source": [
    "We'll first convert the elevation to numbers 1-26 for easier comparison, and then we will unleash Dijkstra's algorithm to calculate the distance from start to exit. Currently, we have our letters stored as ascii codes. The ascii code for `a` is `97` and the rest of the lowercase alphabet is consecutive after that, so we will subtract 96 from every entry to turn it into a `1-26` range."
   ]
  },
  {
   "cell_type": "code",
   "execution_count": 5,
   "id": "ce3bb3a2",
   "metadata": {},
   "outputs": [],
   "source": [
    "data = data - 96"
   ]
  },
  {
   "attachments": {},
   "cell_type": "markdown",
   "id": "00ac00bd",
   "metadata": {},
   "source": [
    "**1. Make a list of all the nodes we haven't visited yet. At the start, this is all of them.**\n",
    "\n",
    "Our map is rectangular, so we can generate a list of tuple coordinates by borrowing the `product()` function from `itertools`"
   ]
  },
  {
   "cell_type": "code",
   "execution_count": 6,
   "id": "a451cb89",
   "metadata": {},
   "outputs": [
    {
     "name": "stdout",
     "output_type": "stream",
     "text": [
      "Map size: (41, 171)\n",
      "Top left: (0, 0)\n",
      "Bottom right: (40, 170)\n",
      "Total nodes: 7011\n"
     ]
    }
   ],
   "source": [
    "import itertools\n",
    "\n",
    "print(f\"Map size: {data.shape}\")\n",
    "\n",
    "not_visited = list(itertools.product(np.arange(data.shape[0]),np.arange(data.shape[1])))\n",
    "\n",
    "print(f\"Top left: {not_visited[0]}\")\n",
    "print(f\"Bottom right: {not_visited[-1]}\")\n",
    "print(f\"Total nodes: {len(not_visited)}\")"
   ]
  },
  {
   "attachments": {},
   "cell_type": "markdown",
   "id": "1e86ebb3",
   "metadata": {},
   "source": [
    "That looks good. Our map is 41 nodes high and 171 nodeswide. We start in the top left corner with coordinates `(0, 0)`, make our way to `(0, 170)` in the top right, and then wrap around to `(1, 0)` and so on, all the way to `(40, 170)` in the bottom right."
   ]
  },
  {
   "attachments": {},
   "cell_type": "markdown",
   "id": "633f71a8",
   "metadata": {},
   "source": [
    " **2. Create a dictionary of nodes to record their corresponding shortest distance from the start. These will all start at infinity, and get updated whenever we find a shorter path to that node.**"
   ]
  },
  {
   "cell_type": "code",
   "execution_count": 7,
   "id": "bf65e578",
   "metadata": {},
   "outputs": [],
   "source": [
    "distances = {node:np.inf for node in not_visited}"
   ]
  },
  {
   "cell_type": "code",
   "execution_count": null,
   "id": "f0672a85",
   "metadata": {},
   "outputs": [],
   "source": []
  },
  {
   "cell_type": "code",
   "execution_count": 103,
   "id": "8a2b70e4",
   "metadata": {},
   "outputs": [],
   "source": [
    "distances = {}\n",
    "for node in not_visited:\n",
    "    distances[node] = np.inf"
   ]
  },
  {
   "attachments": {},
   "cell_type": "markdown",
   "id": "9a4c13e5",
   "metadata": {},
   "source": [
    "We now have a dictionary that for each node (each location defined by a tuple of coordinates), records its distance from the starting point. At the start, we set all of them to infinite distance, as we don't know anything about possible paths yet. "
   ]
  },
  {
   "attachments": {},
   "cell_type": "markdown",
   "id": "5c24a4c5",
   "metadata": {},
   "source": [
    "**3. Set the distance dictionary entry for the starting point to 0.**\n",
    "\n",
    "After setting our entries `a-z` to numbers `1-26`, our starting point `S` has now shifted to number `-13`"
   ]
  },
  {
   "cell_type": "code",
   "execution_count": 9,
   "id": "cf1f1571",
   "metadata": {},
   "outputs": [
    {
     "name": "stdout",
     "output_type": "stream",
     "text": [
      "Starting point at (20, 0). Distance set to 0\n"
     ]
    }
   ],
   "source": [
    "# Find S\n",
    "start = np.where(data == -13) \n",
    "\n",
    "# np.where returns a tuple of arrays, so we need to extract the coordinates first\n",
    "start_loc = list(zip(start[0], start[1]))[0] \n",
    "\n",
    "# Edit the distance dictionary to set the starting point distance to 0.\n",
    "distances[start_loc] = 0\n",
    "\n",
    "print(f\"Starting point at {start_loc}. Distance set to {distances[start_loc]}\")"
   ]
  },
  {
   "attachments": {},
   "cell_type": "markdown",
   "id": "9b15c57f",
   "metadata": {},
   "source": [
    "Our starting point is halfway down the first column on our map. The exit is somewhere on the right. We need to locate it before we can start our Dijkstra loop. As with the `S` for start, our `E` for end has shifted, and we are looking for number `-27`.\n",
    "\n",
    "Oncwe we have located the start and end points, we need to reset their elevations to play nice when compared to the other nodes, and then our final step will be to set the start as our current node."
   ]
  },
  {
   "cell_type": "code",
   "execution_count": 10,
   "id": "1cd86bcc",
   "metadata": {},
   "outputs": [
    {
     "name": "stdout",
     "output_type": "stream",
     "text": [
      "End point at (20, 146). Current distance is inf\n"
     ]
    }
   ],
   "source": [
    "# Find E\n",
    "end = np.where(data == -27)\n",
    "\n",
    "# Extract coordinates\n",
    "end_loc = list(zip(end[0], end[1]))[0]\n",
    "\n",
    "print(f\"End point at {end_loc}. Current distance is {distances[end_loc]}\")\n",
    "\n",
    "data[20, 0] = 0 # Reset starting location to lowest elevation\n",
    "data[20, 146] = 26 # Reset end location to highest elevation"
   ]
  },
  {
   "attachments": {},
   "cell_type": "markdown",
   "id": "2cad4c91",
   "metadata": {},
   "source": [
    "Currently, the distance to our end point is infinity, because we have no idea how to get there. Time to start searching!"
   ]
  },
  {
   "attachments": {},
   "cell_type": "markdown",
   "id": "2587dbce",
   "metadata": {},
   "source": [
    "**4. Set the starting point as the 'current' node.**\n"
   ]
  },
  {
   "cell_type": "code",
   "execution_count": 11,
   "id": "9ce49cd1",
   "metadata": {},
   "outputs": [],
   "source": [
    "current = start_loc"
   ]
  },
  {
   "attachments": {},
   "cell_type": "markdown",
   "id": "1bf124aa",
   "metadata": {},
   "source": [
    "**5. In a loop, while the end node hasn't been visited yet:**"
   ]
  },
  {
   "cell_type": "code",
   "execution_count": 12,
   "id": "0b312e9f",
   "metadata": {
    "scrolled": true
   },
   "outputs": [],
   "source": [
    "while end_loc in not_visited:\n",
    "\n",
    "\n",
    "    neighbours = [(current[0]+i, current[1]+j) for (i,j) in [(-1,0), (1,0), (0, -1), (0, 1)]  # Generate all direct neighbours...\n",
    "        if (current[0]+i in range(0, 41)  # as long as their row nr doesn't fall off the map...\n",
    "        and (current[1]+j in range(0, 171))) # and their column nr doesn't fall off the map...\n",
    "        and (current[0]+i, current[1]+j) in not_visited] # and the neighbour hasn't been visited yet.\n",
    "\n",
    "\n",
    "    for neighbour in neighbours:\n",
    "        \n",
    "        # Check that the elevation change is allowed \n",
    "        if data[neighbour] - data[current] < 2:\n",
    "            \n",
    "            # If that distance value is smaller than what was currently recorded, update the dictionary.\n",
    "            if distances[current] + 1 < distances[neighbour]:\n",
    "                distances[neighbour] = distances[current] + 1\n",
    "\n",
    "                \n",
    "    # Remove current node from not_visited (i.e. tick it off the to-do list)\n",
    "    not_visited.remove(current)\n",
    "\n",
    "        # Pick the next current node from not_visisted with the smallest distance\n",
    "        # We need to account for the case where we may have visited every location and ran out of next options.\n",
    "    if not_visited != []:\n",
    "        current = min(not_visited, key=distances.get)\n",
    "        "
   ]
  },
  {
   "cell_type": "code",
   "execution_count": 13,
   "id": "47071c66",
   "metadata": {},
   "outputs": [
    {
     "name": "stdout",
     "output_type": "stream",
     "text": [
      "The final distance for the end point is 520 steps, which was the solution to this problem.\n"
     ]
    }
   ],
   "source": [
    "print(f\"The final distance for the end point is {distances[end_loc]} steps, which was the solution to this problem.\")"
   ]
  },
  {
   "cell_type": "code",
   "execution_count": null,
   "id": "3bbe2886",
   "metadata": {},
   "outputs": [],
   "source": []
  }
 ],
 "metadata": {
  "kernelspec": {
   "display_name": "Python 3 (ipykernel)",
   "language": "python",
   "name": "python3"
  },
  "language_info": {
   "codemirror_mode": {
    "name": "ipython",
    "version": 3
   },
   "file_extension": ".py",
   "mimetype": "text/x-python",
   "name": "python",
   "nbconvert_exporter": "python",
   "pygments_lexer": "ipython3",
   "version": "3.9.12"
  }
 },
 "nbformat": 4,
 "nbformat_minor": 5
}
